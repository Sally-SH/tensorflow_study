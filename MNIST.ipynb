{
 "cells": [
  {
   "cell_type": "code",
   "execution_count": 4,
   "metadata": {},
   "outputs": [
    {
     "name": "stdout",
     "output_type": "stream",
     "text": [
      "Extracting ./mnist/data\\train-images-idx3-ubyte.gz\n",
      "Extracting ./mnist/data\\train-labels-idx1-ubyte.gz\n",
      "Extracting ./mnist/data\\t10k-images-idx3-ubyte.gz\n",
      "Extracting ./mnist/data\\t10k-labels-idx1-ubyte.gz\n"
     ]
    }
   ],
   "source": [
    "import tensorflow as tf\n",
    "from tensorflow.examples.tutorials.mnist import input_data\n",
    "mnist = input_data.read_data_sets(\"./mnist/data\",one_hot=True)"
   ]
  },
  {
   "cell_type": "code",
   "execution_count": 5,
   "metadata": {},
   "outputs": [],
   "source": [
    "global_step = tf.Variable(0,trainable=False,name='global_step')\n",
    "X = tf.placeholder(tf.float32,[None,784])\n",
    "Y = tf.placeholder(tf.float32,[None,10])\n",
    "with tf.name_scope('layer1'):\n",
    "    W1 = tf.Variable(tf.random_normal([784,256],stddev=0.01))\n",
    "    L1 = tf.nn.relu(tf.matmul(X,W1))\n",
    "with tf.name_scope('layer2'):\n",
    "    W2 = tf.Variable(tf.random_normal([256,256],stddev=0.01))\n",
    "    L2 = tf.nn.relu(tf.matmul(L1,W2))\n",
    "with tf.name_scope('output'):\n",
    "    W3 = tf.Variable(tf.random_normal([256,10],stddev=0.01))\n",
    "    model = tf.matmul(L2,W3)"
   ]
  },
  {
   "cell_type": "code",
   "execution_count": 7,
   "metadata": {},
   "outputs": [],
   "source": [
    "with tf.name_scope('optimizer'):\n",
    "    cost = tf.reduce_mean(tf.nn.softmax_cross_entropy_with_logits_v2(logits=model,labels=Y))\n",
    "    optimizer = tf.train.AdamOptimizer(0.001).minimize(cost)\n",
    "    tf.summary.scalar('cost',cost)\n",
    "sess = tf.Session()\n",
    "saver = tf.train.Saver(tf.global_variables())\n",
    "ckpt = tf.train.get_checkpoint_state('./model1')\n",
    "if ckpt and tf.train.checkpoint_exists(ckpt.model_checkpoint_path):\n",
    "    saver.restore(sess,ckpt.model_checkpoint_path)\n",
    "else:\n",
    "    sess.run(tf.global_variables_initializer())"
   ]
  },
  {
   "cell_type": "code",
   "execution_count": 13,
   "metadata": {},
   "outputs": [
    {
     "name": "stdout",
     "output_type": "stream",
     "text": [
      "epoch: 0001 Avg. cost= 0.008440\n",
      "epoch: 0002 Avg. cost= 0.006982\n",
      "epoch: 0003 Avg. cost= 0.007967\n",
      "epoch: 0004 Avg. cost= 0.009626\n",
      "epoch: 0005 Avg. cost= 0.008150\n",
      "epoch: 0006 Avg. cost= 0.005022\n",
      "epoch: 0007 Avg. cost= 0.007698\n",
      "epoch: 0008 Avg. cost= 0.005277\n",
      "epoch: 0009 Avg. cost= 0.008176\n",
      "epoch: 0010 Avg. cost= 0.006585\n",
      "epoch: 0011 Avg. cost= 0.006015\n",
      "epoch: 0012 Avg. cost= 0.004318\n",
      "epoch: 0013 Avg. cost= 0.010232\n",
      "epoch: 0014 Avg. cost= 0.002684\n",
      "epoch: 0015 Avg. cost= 0.002279\n",
      "finish\n",
      "accu: 0.9804\n"
     ]
    }
   ],
   "source": [
    "batch_size = 100\n",
    "total_batch = int(mnist.train.num_examples/batch_size)\n",
    "for epoch in range(15):\n",
    "    total_cost = 0\n",
    "    for i in range(total_batch):\n",
    "        batch_xs,batch_ys = mnist.train.next_batch(batch_size)\n",
    "        _,cost_val = sess.run([optimizer,cost],feed_dict={X:batch_xs,Y:batch_ys})\n",
    "        total_cost += cost_val\n",
    "    print('epoch:','%04d' %(epoch+1),'Avg. cost=','{:3f}'.format(total_cost/total_batch))\n",
    "print('finish')\n",
    "saver.save(sess,'./model1/mnist.ckpt',global_step = global_step)\n",
    "is_correct = tf.equal(tf.argmax(model,1),tf.argmax(Y,1))\n",
    "accuracy = tf.reduce_mean(tf.cast(is_correct,tf.float32))\n",
    "print('accu:',sess.run(accuracy,feed_dict={X:mnist.test.images,Y:mnist.test.labels}))"
   ]
  },
  {
   "cell_type": "code",
   "execution_count": 16,
   "metadata": {},
   "outputs": [
    {
     "data": {
      "image/png": "[encoded data removed]",
      "text/plain": [
       "<Figure size 432x288 with 20 Axes>"
      ]
     },
     "metadata": {},
     "output_type": "display_data"
    }
   ],
   "source": [
    "import matplotlib.pyplot as plt\n",
    "import numpy as np\n",
    "labels = sess.run(model,feed_dict={X:mnist.test.images,Y:mnist.test.labels})\n",
    "fig = plt.figure()\n",
    "for i in range(20):\n",
    "    subplot = fig.add_subplot(4,5,i+1)\n",
    "    subplot.set_xticks([])\n",
    "    subplot.set_yticks([])\n",
    "    subplot.set_title(\"%d\" % np.argmax(labels[i]))\n",
    "    subplot.imshow(mnist.test.images[i].reshape((28,28)),cmap=plt.cm.gray_r)\n",
    "plt.show()"
   ]
  },
  {
   "cell_type": "code",
   "execution_count": null,
   "metadata": {},
   "outputs": [],
   "source": []
  },
  {
   "cell_type": "code",
   "execution_count": null,
   "metadata": {},
   "outputs": [],
   "source": []
  }
 ],
 "metadata": {
  "kernelspec": {
   "display_name": "Python 3",
   "language": "python",
   "name": "python3"
  },
  "language_info": {
   "codemirror_mode": {
    "name": "ipython",
    "version": 3
   },
   "file_extension": ".py",
   "mimetype": "text/x-python",
   "name": "python",
   "nbconvert_exporter": "python",
   "pygments_lexer": "ipython3",
   "version": "3.7.6"
  }
 },
 "nbformat": 4,
 "nbformat_minor": 4
}
