{
 "cells": [
  {
   "cell_type": "code",
   "execution_count": 1,
   "metadata": {},
   "outputs": [
    {
     "name": "stderr",
     "output_type": "stream",
     "text": [
      "C:\\Users\\hansh\\anaconda3\\lib\\site-packages\\tensorflow\\python\\framework\\dtypes.py:526: FutureWarning: Passing (type, 1) or '1type' as a synonym of type is deprecated; in a future version of numpy, it will be understood as (type, (1,)) / '(1,)type'.\n",
      "  _np_qint8 = np.dtype([(\"qint8\", np.int8, 1)])\n",
      "C:\\Users\\hansh\\anaconda3\\lib\\site-packages\\tensorflow\\python\\framework\\dtypes.py:527: FutureWarning: Passing (type, 1) or '1type' as a synonym of type is deprecated; in a future version of numpy, it will be understood as (type, (1,)) / '(1,)type'.\n",
      "  _np_quint8 = np.dtype([(\"quint8\", np.uint8, 1)])\n",
      "C:\\Users\\hansh\\anaconda3\\lib\\site-packages\\tensorflow\\python\\framework\\dtypes.py:528: FutureWarning: Passing (type, 1) or '1type' as a synonym of type is deprecated; in a future version of numpy, it will be understood as (type, (1,)) / '(1,)type'.\n",
      "  _np_qint16 = np.dtype([(\"qint16\", np.int16, 1)])\n",
      "C:\\Users\\hansh\\anaconda3\\lib\\site-packages\\tensorflow\\python\\framework\\dtypes.py:529: FutureWarning: Passing (type, 1) or '1type' as a synonym of type is deprecated; in a future version of numpy, it will be understood as (type, (1,)) / '(1,)type'.\n",
      "  _np_quint16 = np.dtype([(\"quint16\", np.uint16, 1)])\n",
      "C:\\Users\\hansh\\anaconda3\\lib\\site-packages\\tensorflow\\python\\framework\\dtypes.py:530: FutureWarning: Passing (type, 1) or '1type' as a synonym of type is deprecated; in a future version of numpy, it will be understood as (type, (1,)) / '(1,)type'.\n",
      "  _np_qint32 = np.dtype([(\"qint32\", np.int32, 1)])\n",
      "C:\\Users\\hansh\\anaconda3\\lib\\site-packages\\tensorflow\\python\\framework\\dtypes.py:535: FutureWarning: Passing (type, 1) or '1type' as a synonym of type is deprecated; in a future version of numpy, it will be understood as (type, (1,)) / '(1,)type'.\n",
      "  np_resource = np.dtype([(\"resource\", np.ubyte, 1)])\n"
     ]
    }
   ],
   "source": [
    "import tensorflow as tf\n",
    "import numpy as np\n",
    "\n",
    "data = np.loadtxt('./data.csv',delimiter=',',unpack=True,dtype='float32')\n",
    "x_data = np.transpose(data[0:2])\n",
    "y_data = np.transpose(data[2:])"
   ]
  },
  {
   "cell_type": "code",
   "execution_count": 5,
   "metadata": {},
   "outputs": [],
   "source": [
    "global_step = tf.Variable(0,trainable = False, name='global_step')\n",
    "X = tf.placeholder(tf.float32)\n",
    "Y = tf.placeholder(tf.float32)\n",
    "\n",
    "with tf.name_scope('layer1'):\n",
    "    W1 = tf.Variable(tf.random_uniform([2,10],-1.,1.),name='W1')\n",
    "    L1 = tf.nn.relu(tf.matmul(X,W1))\n",
    "    tf.summary.histogram(\"Weights1\",W1)\n",
    "\n",
    "with tf.name_scope('layer2'):\n",
    "    W2 = tf.Variable(tf.random_uniform([10,20],-1.,1.),name='W2')\n",
    "    L2 = tf.nn.relu(tf.matmul(L1,W2))\n",
    "    tf.summary.histogram(\"Weights2\",W2)\n",
    "\n",
    "with tf.name_scope('output'):\n",
    "    W3 = tf.Variable(tf.random_uniform([20,3],-1.,1.),name='W3')\n",
    "    model = tf.matmul(L2,W3)\n",
    "    tf.summary.histogram(\"Weights3\",W3)"
   ]
  },
  {
   "cell_type": "code",
   "execution_count": 7,
   "metadata": {},
   "outputs": [],
   "source": [
    "with tf.name_scope('optimizer'):\n",
    "    cost = tf.reduce_mean(tf.nn.softmax_cross_entropy_with_logits_v2(labels=Y,logits=model))\n",
    "    optimizer = tf.train.AdamOptimizer(learning_rate=0.01)\n",
    "    train_op = optimizer.minimize(cost,global_step=global_step)\n",
    "    tf.summary.scalar('cost',cost)"
   ]
  },
  {
   "cell_type": "code",
   "execution_count": 9,
   "metadata": {},
   "outputs": [],
   "source": [
    "sess = tf.Session()\n",
    "saver = tf.train.Saver(tf.global_variables())\n",
    "ckpt = tf.train.get_checkpoint_state('./model')\n",
    "if ckpt and tf.train_checkpoint_exists(ckpt.model_checkpoint_path):\n",
    "    saver.restore(sess,ckpt.model_checkpoint_path)\n",
    "else:\n",
    "    sess.run(tf.global_variables_initializer())"
   ]
  },
  {
   "cell_type": "code",
   "execution_count": 10,
   "metadata": {},
   "outputs": [],
   "source": [
    "merged = tf.summary.merge_all()\n",
    "writer = tf.summary.FileWriter('./logs',sess.graph)"
   ]
  },
  {
   "cell_type": "code",
   "execution_count": 13,
   "metadata": {},
   "outputs": [
    {
     "name": "stdout",
     "output_type": "stream",
     "text": [
      "Step: 3,  Cost: 1.036\n",
      "Step: 4,  Cost: 0.992\n",
      "Step: 5,  Cost: 0.950\n",
      "Step: 6,  Cost: 0.913\n",
      "Step: 7,  Cost: 0.879\n",
      "Step: 8,  Cost: 0.847\n",
      "Step: 9,  Cost: 0.817\n",
      "Step: 10,  Cost: 0.787\n",
      "Step: 11,  Cost: 0.760\n",
      "Step: 12,  Cost: 0.735\n",
      "Step: 13,  Cost: 0.712\n",
      "Step: 14,  Cost: 0.691\n",
      "Step: 15,  Cost: 0.672\n",
      "Step: 16,  Cost: 0.656\n",
      "Step: 17,  Cost: 0.641\n",
      "Step: 18,  Cost: 0.629\n",
      "Step: 19,  Cost: 0.617\n",
      "Step: 20,  Cost: 0.607\n",
      "Step: 21,  Cost: 0.599\n",
      "Step: 22,  Cost: 0.591\n",
      "Step: 23,  Cost: 0.585\n",
      "Step: 24,  Cost: 0.580\n",
      "Step: 25,  Cost: 0.575\n",
      "Step: 26,  Cost: 0.572\n",
      "Step: 27,  Cost: 0.569\n",
      "Step: 28,  Cost: 0.566\n",
      "Step: 29,  Cost: 0.564\n",
      "Step: 30,  Cost: 0.562\n",
      "Step: 31,  Cost: 0.560\n",
      "Step: 32,  Cost: 0.559\n",
      "Step: 33,  Cost: 0.558\n",
      "Step: 34,  Cost: 0.557\n",
      "Step: 35,  Cost: 0.556\n",
      "Step: 36,  Cost: 0.555\n",
      "Step: 37,  Cost: 0.555\n",
      "Step: 38,  Cost: 0.554\n",
      "Step: 39,  Cost: 0.554\n",
      "Step: 40,  Cost: 0.553\n",
      "Step: 41,  Cost: 0.553\n",
      "Step: 42,  Cost: 0.553\n",
      "Step: 43,  Cost: 0.553\n",
      "Step: 44,  Cost: 0.552\n",
      "Step: 45,  Cost: 0.552\n",
      "Step: 46,  Cost: 0.552\n",
      "Step: 47,  Cost: 0.552\n",
      "Step: 48,  Cost: 0.552\n",
      "Step: 49,  Cost: 0.552\n",
      "Step: 50,  Cost: 0.551\n",
      "Step: 51,  Cost: 0.551\n",
      "Step: 52,  Cost: 0.551\n",
      "Step: 53,  Cost: 0.551\n",
      "Step: 54,  Cost: 0.551\n",
      "Step: 55,  Cost: 0.551\n",
      "Step: 56,  Cost: 0.551\n",
      "Step: 57,  Cost: 0.551\n",
      "Step: 58,  Cost: 0.551\n",
      "Step: 59,  Cost: 0.551\n",
      "Step: 60,  Cost: 0.551\n",
      "Step: 61,  Cost: 0.551\n",
      "Step: 62,  Cost: 0.551\n",
      "Step: 63,  Cost: 0.551\n",
      "Step: 64,  Cost: 0.551\n",
      "Step: 65,  Cost: 0.551\n",
      "Step: 66,  Cost: 0.551\n",
      "Step: 67,  Cost: 0.551\n",
      "Step: 68,  Cost: 0.551\n",
      "Step: 69,  Cost: 0.550\n",
      "Step: 70,  Cost: 0.550\n",
      "Step: 71,  Cost: 0.550\n",
      "Step: 72,  Cost: 0.550\n",
      "Step: 73,  Cost: 0.550\n",
      "Step: 74,  Cost: 0.550\n",
      "Step: 75,  Cost: 0.550\n",
      "Step: 76,  Cost: 0.550\n",
      "Step: 77,  Cost: 0.550\n",
      "Step: 78,  Cost: 0.550\n",
      "Step: 79,  Cost: 0.550\n",
      "Step: 80,  Cost: 0.550\n",
      "Step: 81,  Cost: 0.550\n",
      "Step: 82,  Cost: 0.550\n",
      "Step: 83,  Cost: 0.550\n",
      "Step: 84,  Cost: 0.550\n",
      "Step: 85,  Cost: 0.550\n",
      "Step: 86,  Cost: 0.550\n",
      "Step: 87,  Cost: 0.550\n",
      "Step: 88,  Cost: 0.550\n",
      "Step: 89,  Cost: 0.550\n",
      "Step: 90,  Cost: 0.550\n",
      "Step: 91,  Cost: 0.550\n",
      "Step: 92,  Cost: 0.550\n",
      "Step: 93,  Cost: 0.550\n",
      "Step: 94,  Cost: 0.550\n",
      "Step: 95,  Cost: 0.550\n",
      "Step: 96,  Cost: 0.550\n",
      "Step: 97,  Cost: 0.550\n",
      "Step: 98,  Cost: 0.550\n",
      "Step: 99,  Cost: 0.550\n",
      "Step: 100,  Cost: 0.550\n",
      "Step: 101,  Cost: 0.550\n",
      "Step: 102,  Cost: 0.550\n"
     ]
    },
    {
     "data": {
      "text/plain": [
       "'./model/dnn.ckpt-102'"
      ]
     },
     "execution_count": 13,
     "metadata": {},
     "output_type": "execute_result"
    }
   ],
   "source": [
    "for step in range(100):\n",
    "    sess.run(train_op,feed_dict={X:x_data,Y:y_data})\n",
    "    print('Step: %d, ' %sess.run(global_step),'Cost: %.3f' %sess.run(cost,feed_dict={X:x_data,Y:y_data}))\n",
    "    summary = sess.run(merged,feed_dict={X:x_data,Y:y_data})\n",
    "    writer.add_summary(summary,global_step=sess.run(global_step))\n",
    "\n",
    "saver.save(sess, './model/dnn.ckpt',global_step=global_step)"
   ]
  },
  {
   "cell_type": "code",
   "execution_count": 14,
   "metadata": {},
   "outputs": [
    {
     "name": "stdout",
     "output_type": "stream",
     "text": [
      "pre: [0 1 2 0 0 2]\n",
      "tar: [0 1 2 0 0 2]\n"
     ]
    }
   ],
   "source": [
    "prediction = tf.argmax(model,1)\n",
    "target = tf.argmax(Y,1)\n",
    "print('pre:',sess.run(prediction,feed_dict={X:x_data}))\n",
    "print('tar:',sess.run(target,feed_dict={Y:y_data}))"
   ]
  },
  {
   "cell_type": "code",
   "execution_count": null,
   "metadata": {},
   "outputs": [],
   "source": []
  }
 ],
 "metadata": {
  "kernelspec": {
   "display_name": "Python 3",
   "language": "python",
   "name": "python3"
  },
  "language_info": {
   "codemirror_mode": {
    "name": "ipython",
    "version": 3
   },
   "file_extension": ".py",
   "mimetype": "text/x-python",
   "name": "python",
   "nbconvert_exporter": "python",
   "pygments_lexer": "ipython3",
   "version": "3.7.6"
  }
 },
 "nbformat": 4,
 "nbformat_minor": 4
}
