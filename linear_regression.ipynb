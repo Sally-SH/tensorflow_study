{
 "cells": [
  {
   "cell_type": "code",
   "execution_count": 1,
   "metadata": {},
   "outputs": [
    {
     "name": "stderr",
     "output_type": "stream",
     "text": [
      "C:\\Users\\hansh\\anaconda3\\lib\\site-packages\\tensorflow\\python\\framework\\dtypes.py:526: FutureWarning: Passing (type, 1) or '1type' as a synonym of type is deprecated; in a future version of numpy, it will be understood as (type, (1,)) / '(1,)type'.\n",
      "  _np_qint8 = np.dtype([(\"qint8\", np.int8, 1)])\n",
      "C:\\Users\\hansh\\anaconda3\\lib\\site-packages\\tensorflow\\python\\framework\\dtypes.py:527: FutureWarning: Passing (type, 1) or '1type' as a synonym of type is deprecated; in a future version of numpy, it will be understood as (type, (1,)) / '(1,)type'.\n",
      "  _np_quint8 = np.dtype([(\"quint8\", np.uint8, 1)])\n",
      "C:\\Users\\hansh\\anaconda3\\lib\\site-packages\\tensorflow\\python\\framework\\dtypes.py:528: FutureWarning: Passing (type, 1) or '1type' as a synonym of type is deprecated; in a future version of numpy, it will be understood as (type, (1,)) / '(1,)type'.\n",
      "  _np_qint16 = np.dtype([(\"qint16\", np.int16, 1)])\n",
      "C:\\Users\\hansh\\anaconda3\\lib\\site-packages\\tensorflow\\python\\framework\\dtypes.py:529: FutureWarning: Passing (type, 1) or '1type' as a synonym of type is deprecated; in a future version of numpy, it will be understood as (type, (1,)) / '(1,)type'.\n",
      "  _np_quint16 = np.dtype([(\"quint16\", np.uint16, 1)])\n",
      "C:\\Users\\hansh\\anaconda3\\lib\\site-packages\\tensorflow\\python\\framework\\dtypes.py:530: FutureWarning: Passing (type, 1) or '1type' as a synonym of type is deprecated; in a future version of numpy, it will be understood as (type, (1,)) / '(1,)type'.\n",
      "  _np_qint32 = np.dtype([(\"qint32\", np.int32, 1)])\n",
      "C:\\Users\\hansh\\anaconda3\\lib\\site-packages\\tensorflow\\python\\framework\\dtypes.py:535: FutureWarning: Passing (type, 1) or '1type' as a synonym of type is deprecated; in a future version of numpy, it will be understood as (type, (1,)) / '(1,)type'.\n",
      "  np_resource = np.dtype([(\"resource\", np.ubyte, 1)])\n"
     ]
    },
    {
     "name": "stdout",
     "output_type": "stream",
     "text": [
      "Tensor(\"Add:0\", shape=(), dtype=int32)\n"
     ]
    }
   ],
   "source": [
    "import tensorflow as tf\n",
    "a = tf.constant(10)\n",
    "b = tf.constant(32)\n",
    "c = tf.add(a,b)\n",
    "print(c)"
   ]
  },
  {
   "cell_type": "code",
   "execution_count": 3,
   "metadata": {},
   "outputs": [
    {
     "name": "stdout",
     "output_type": "stream",
     "text": [
      "[10, 32, 42]\n"
     ]
    }
   ],
   "source": [
    "sess = tf.Session()\n",
    "print(sess.run([a,b,c]))\n",
    "sess.close()"
   ]
  },
  {
   "cell_type": "code",
   "execution_count": 4,
   "metadata": {},
   "outputs": [
    {
     "name": "stdout",
     "output_type": "stream",
     "text": [
      "WARNING:tensorflow:From C:\\Users\\hansh\\anaconda3\\lib\\site-packages\\tensorflow\\python\\framework\\op_def_library.py:263: colocate_with (from tensorflow.python.framework.ops) is deprecated and will be removed in a future version.\n",
      "Instructions for updating:\n",
      "Colocations handled automatically by placer.\n"
     ]
    }
   ],
   "source": [
    "x_data = [1,2,3]\n",
    "y_data = [1,2,3]\n",
    "\n",
    "W = tf.Variable(tf.random_uniform([1],-1.0,1.0))\n",
    "b = tf.Variable(tf.random_uniform([1],-1.0,1.0))\n",
    "\n",
    "X = tf.placeholder(tf.float32, name = \"X\")\n",
    "Y = tf.placeholder(tf.float32, name = \"Y\")"
   ]
  },
  {
   "cell_type": "code",
   "execution_count": 7,
   "metadata": {},
   "outputs": [
    {
     "name": "stdout",
     "output_type": "stream",
     "text": [
      "WARNING:tensorflow:From C:\\Users\\hansh\\anaconda3\\lib\\site-packages\\tensorflow\\python\\ops\\math_ops.py:3066: to_int32 (from tensorflow.python.ops.math_ops) is deprecated and will be removed in a future version.\n",
      "Instructions for updating:\n",
      "Use tf.cast instead.\n"
     ]
    }
   ],
   "source": [
    "hypthesis = W*X + b\n",
    "cost = tf.reduce_mean(tf.square(hypthesis - Y))\n",
    "optimizer = tf.train.GradientDescentOptimizer(learning_rate = 0.1)\n",
    "train_op = optimizer.minimize(cost)"
   ]
  },
  {
   "cell_type": "code",
   "execution_count": 15,
   "metadata": {},
   "outputs": [
    {
     "name": "stdout",
     "output_type": "stream",
     "text": [
      "0 5.689541 [1.2069656] [-0.19578543]\n",
      "1 0.07614404 [1.0921118] [-0.23941457]\n",
      "2 0.008702433 [1.1019065] [-0.22837639]\n",
      "3 0.007526651 [1.0981443] [-0.22346373]\n",
      "4 0.0071600205 [1.0959284] [-0.2180287]\n",
      "5 0.006819801 [1.0936067] [-0.21279432]\n",
      "6 0.006495859 [1.0913582] [-0.20767814]\n",
      "7 0.0061873035 [1.0891618] [-0.20268579]\n",
      "8 0.005893392 [1.0870185] [-0.19781332]\n",
      "9 0.0056134616 [1.0849266] [-0.19305806]\n",
      "10 0.0053468193 [1.082885] [-0.18841709]\n",
      "11 0.0050928346 [1.0808926] [-0.18388768]\n",
      "12 0.004850925 [1.0789479] [-0.17946716]\n",
      "13 0.0046204976 [1.0770501] [-0.17515287]\n",
      "14 0.0044010277 [1.0751978] [-0.17094232]\n",
      "15 0.004191978 [1.0733901] [-0.166833]\n",
      "16 0.0039928597 [1.0716258] [-0.16282246]\n",
      "17 0.0038031943 [1.069904] [-0.1589083]\n",
      "18 0.003622535 [1.0682236] [-0.15508823]\n",
      "19 0.003450467 [1.0665835] [-0.15136003]\n",
      "20 0.003286558 [1.0649829] [-0.14772142]\n",
      "21 0.0031304427 [1.0634208] [-0.14417028]\n",
      "22 0.0029817482 [1.0618962] [-0.14070454]\n",
      "23 0.0028401057 [1.0604082] [-0.13732211]\n",
      "24 0.0027052078 [1.058956] [-0.13402098]\n",
      "25 0.002576702 [1.0575389] [-0.13079919]\n",
      "26 0.0024543046 [1.0561557] [-0.12765488]\n",
      "27 0.0023377347 [1.0548056] [-0.12458618]\n",
      "28 0.002226685 [1.0534883] [-0.1215912]\n",
      "29 0.0021209214 [1.0522023] [-0.11866827]\n",
      "30 0.0020201746 [1.0509474] [-0.11581555]\n",
      "31 0.001924209 [1.0497227] [-0.11303141]\n",
      "32 0.0018328099 [1.0485274] [-0.1103142]\n",
      "33 0.0017457547 [1.0473608] [-0.10766231]\n",
      "34 0.0016628256 [1.0462223] [-0.10507416]\n",
      "35 0.001583843 [1.0451112] [-0.10254826]\n",
      "36 0.0015086038 [1.0440267] [-0.10008308]\n",
      "37 0.0014369454 [1.0429684] [-0.09767714]\n",
      "38 0.0013686904 [1.0419354] [-0.09532908]\n",
      "39 0.0013036771 [1.0409273] [-0.09303744]\n",
      "40 0.0012417507 [1.0399435] [-0.09080087]\n",
      "41 0.0011827702 [1.0389832] [-0.08861808]\n",
      "42 0.001126584 [1.0380461] [-0.08648775]\n",
      "43 0.0010730718 [1.0371315] [-0.08440864]\n",
      "44 0.0010221021 [1.0362389] [-0.08237954]\n",
      "45 0.00097354874 [1.0353677] [-0.08039919]\n",
      "46 0.0009273044 [1.0345175] [-0.07846644]\n",
      "47 0.000883257 [1.0336877] [-0.07658017]\n",
      "48 0.00084130577 [1.0328779] [-0.07473923]\n",
      "49 0.0008013395 [1.0320876] [-0.07294255]\n",
      "50 0.0007632762 [1.0313162] [-0.07118908]\n",
      "51 0.00072701526 [1.0305634] [-0.06947771]\n",
      "52 0.0006924842 [1.0298287] [-0.06780751]\n",
      "53 0.0006595943 [1.0291115] [-0.06617749]\n",
      "54 0.0006282635 [1.0284117] [-0.06458661]\n",
      "55 0.0005984164 [1.0277288] [-0.06303398]\n",
      "56 0.0005699916 [1.0270622] [-0.0615187]\n",
      "57 0.0005429168 [1.0264117] [-0.06003983]\n",
      "58 0.0005171309 [1.0257766] [-0.05859654]\n",
      "59 0.0004925633 [1.0251571] [-0.05718788]\n",
      "60 0.00046916932 [1.0245522] [-0.05581315]\n",
      "61 0.0004468805 [1.0239621] [-0.05447141]\n",
      "62 0.00042565507 [1.023386] [-0.05316199]\n",
      "63 0.00040543382 [1.0228239] [-0.05188398]\n",
      "64 0.00038617896 [1.0222752] [-0.05063677]\n",
      "65 0.00036783362 [1.0217397] [-0.0494195]\n",
      "66 0.00035036277 [1.0212171] [-0.0482315]\n",
      "67 0.00033371753 [1.0207071] [-0.04707203]\n",
      "68 0.00031786863 [1.0202093] [-0.04594048]\n",
      "69 0.00030276898 [1.0197234] [-0.04483612]\n",
      "70 0.00028838715 [1.0192493] [-0.04375827]\n",
      "71 0.00027468795 [1.0187865] [-0.04270634]\n",
      "72 0.0002616423 [1.018335] [-0.0416797]\n",
      "73 0.00024921345 [1.0178941] [-0.04067777]\n",
      "74 0.00023737311 [1.017464] [-0.03969986]\n",
      "75 0.00022609798 [1.0170442] [-0.0387455]\n",
      "76 0.00021536053 [1.0166345] [-0.03781408]\n",
      "77 0.00020512838 [1.0162346] [-0.03690504]\n",
      "78 0.00019538506 [1.0158443] [-0.03601789]\n",
      "79 0.0001861042 [1.0154635] [-0.03515205]\n",
      "80 0.00017726619 [1.0150917] [-0.03430704]\n",
      "81 0.00016884432 [1.0147289] [-0.03348229]\n",
      "82 0.00016082288 [1.0143749] [-0.03267739]\n",
      "83 0.00015318529 [1.0140293] [-0.03189185]\n",
      "84 0.00014590764 [1.013692] [-0.03112519]\n",
      "85 0.00013897714 [1.0133629] [-0.03037697]\n",
      "86 0.00013237596 [1.0130416] [-0.02964673]\n",
      "87 0.00012608936 [1.0127281] [-0.02893404]\n",
      "88 0.000120098026 [1.0124222] [-0.02823847]\n",
      "89 0.000114394024 [1.0121235] [-0.02755966]\n",
      "90 0.000108958244 [1.0118321] [-0.0268971]\n",
      "91 0.000103783146 [1.0115477] [-0.02625052]\n",
      "92 9.8854674e-05 [1.01127] [-0.02561949]\n",
      "93 9.415876e-05 [1.0109991] [-0.02500361]\n",
      "94 8.968485e-05 [1.0107348] [-0.02440251]\n",
      "95 8.542522e-05 [1.0104767] [-0.02381592]\n",
      "96 8.136905e-05 [1.0102248] [-0.02324343]\n",
      "97 7.750321e-05 [1.009979] [-0.02268468]\n",
      "98 7.382241e-05 [1.0097392] [-0.02213935]\n",
      "99 7.031552e-05 [1.009505] [-0.02160715]\n",
      "\n",
      "==Test==\n",
      "X: 5, Y: [5.0259185]\n"
     ]
    }
   ],
   "source": [
    "with tf.Session() as sess:\n",
    "    sess.run(tf.global_variables_initializer())\n",
    "    for step in range(100):\n",
    "        _,cost_val = sess.run([train_op,cost],feed_dict = {X:x_data, Y:y_data})\n",
    "        print(step,cost_val,sess.run(W),sess.run(b))\n",
    "    print(\"\\n==Test==\")\n",
    "    print(\"X: 5, Y:\",sess.run(hypthesis,feed_dict={X:5}))"
   ]
  },
  {
   "cell_type": "code",
   "execution_count": null,
   "metadata": {},
   "outputs": [],
   "source": []
  },
  {
   "cell_type": "code",
   "execution_count": null,
   "metadata": {},
   "outputs": [],
   "source": []
  }
 ],
 "metadata": {
  "kernelspec": {
   "display_name": "Python 3",
   "language": "python",
   "name": "python3"
  },
  "language_info": {
   "codemirror_mode": {
    "name": "ipython",
    "version": 3
   },
   "file_extension": ".py",
   "mimetype": "text/x-python",
   "name": "python",
   "nbconvert_exporter": "python",
   "pygments_lexer": "ipython3",
   "version": "3.7.6"
  }
 },
 "nbformat": 4,
 "nbformat_minor": 4
}
