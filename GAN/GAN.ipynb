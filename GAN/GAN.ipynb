{
 "cells": [
  {
   "cell_type": "code",
   "execution_count": 1,
   "metadata": {},
   "outputs": [
    {
     "name": "stderr",
     "output_type": "stream",
     "text": [
      "C:\\Users\\hansh\\anaconda3\\lib\\site-packages\\tensorflow\\python\\framework\\dtypes.py:526: FutureWarning: Passing (type, 1) or '1type' as a synonym of type is deprecated; in a future version of numpy, it will be understood as (type, (1,)) / '(1,)type'.\n",
      "  _np_qint8 = np.dtype([(\"qint8\", np.int8, 1)])\n",
      "C:\\Users\\hansh\\anaconda3\\lib\\site-packages\\tensorflow\\python\\framework\\dtypes.py:527: FutureWarning: Passing (type, 1) or '1type' as a synonym of type is deprecated; in a future version of numpy, it will be understood as (type, (1,)) / '(1,)type'.\n",
      "  _np_quint8 = np.dtype([(\"quint8\", np.uint8, 1)])\n",
      "C:\\Users\\hansh\\anaconda3\\lib\\site-packages\\tensorflow\\python\\framework\\dtypes.py:528: FutureWarning: Passing (type, 1) or '1type' as a synonym of type is deprecated; in a future version of numpy, it will be understood as (type, (1,)) / '(1,)type'.\n",
      "  _np_qint16 = np.dtype([(\"qint16\", np.int16, 1)])\n",
      "C:\\Users\\hansh\\anaconda3\\lib\\site-packages\\tensorflow\\python\\framework\\dtypes.py:529: FutureWarning: Passing (type, 1) or '1type' as a synonym of type is deprecated; in a future version of numpy, it will be understood as (type, (1,)) / '(1,)type'.\n",
      "  _np_quint16 = np.dtype([(\"quint16\", np.uint16, 1)])\n",
      "C:\\Users\\hansh\\anaconda3\\lib\\site-packages\\tensorflow\\python\\framework\\dtypes.py:530: FutureWarning: Passing (type, 1) or '1type' as a synonym of type is deprecated; in a future version of numpy, it will be understood as (type, (1,)) / '(1,)type'.\n",
      "  _np_qint32 = np.dtype([(\"qint32\", np.int32, 1)])\n",
      "C:\\Users\\hansh\\anaconda3\\lib\\site-packages\\tensorflow\\python\\framework\\dtypes.py:535: FutureWarning: Passing (type, 1) or '1type' as a synonym of type is deprecated; in a future version of numpy, it will be understood as (type, (1,)) / '(1,)type'.\n",
      "  np_resource = np.dtype([(\"resource\", np.ubyte, 1)])\n"
     ]
    },
    {
     "name": "stdout",
     "output_type": "stream",
     "text": [
      "WARNING:tensorflow:From <ipython-input-1-f7084f61ee93>:5: read_data_sets (from tensorflow.contrib.learn.python.learn.datasets.mnist) is deprecated and will be removed in a future version.\n",
      "Instructions for updating:\n",
      "Please use alternatives such as official/mnist/dataset.py from tensorflow/models.\n",
      "WARNING:tensorflow:From C:\\Users\\hansh\\anaconda3\\lib\\site-packages\\tensorflow\\contrib\\learn\\python\\learn\\datasets\\mnist.py:260: maybe_download (from tensorflow.contrib.learn.python.learn.datasets.base) is deprecated and will be removed in a future version.\n",
      "Instructions for updating:\n",
      "Please write your own downloading logic.\n",
      "WARNING:tensorflow:From C:\\Users\\hansh\\anaconda3\\lib\\site-packages\\tensorflow\\contrib\\learn\\python\\learn\\datasets\\mnist.py:262: extract_images (from tensorflow.contrib.learn.python.learn.datasets.mnist) is deprecated and will be removed in a future version.\n",
      "Instructions for updating:\n",
      "Please use tf.data to implement this functionality.\n",
      "Extracting ./mnist/data/train-images-idx3-ubyte.gz\n",
      "WARNING:tensorflow:From C:\\Users\\hansh\\anaconda3\\lib\\site-packages\\tensorflow\\contrib\\learn\\python\\learn\\datasets\\mnist.py:267: extract_labels (from tensorflow.contrib.learn.python.learn.datasets.mnist) is deprecated and will be removed in a future version.\n",
      "Instructions for updating:\n",
      "Please use tf.data to implement this functionality.\n",
      "Extracting ./mnist/data/train-labels-idx1-ubyte.gz\n",
      "WARNING:tensorflow:From C:\\Users\\hansh\\anaconda3\\lib\\site-packages\\tensorflow\\contrib\\learn\\python\\learn\\datasets\\mnist.py:110: dense_to_one_hot (from tensorflow.contrib.learn.python.learn.datasets.mnist) is deprecated and will be removed in a future version.\n",
      "Instructions for updating:\n",
      "Please use tf.one_hot on tensors.\n",
      "Extracting ./mnist/data/t10k-images-idx3-ubyte.gz\n",
      "Extracting ./mnist/data/t10k-labels-idx1-ubyte.gz\n",
      "WARNING:tensorflow:From C:\\Users\\hansh\\anaconda3\\lib\\site-packages\\tensorflow\\contrib\\learn\\python\\learn\\datasets\\mnist.py:290: DataSet.__init__ (from tensorflow.contrib.learn.python.learn.datasets.mnist) is deprecated and will be removed in a future version.\n",
      "Instructions for updating:\n",
      "Please use alternatives such as official/mnist/dataset.py from tensorflow/models.\n"
     ]
    }
   ],
   "source": [
    "import tensorflow as tf\n",
    "import numpy as np\n",
    "import matplotlib.pyplot as plt\n",
    "from tensorflow.examples.tutorials.mnist import input_data\n",
    "mnist = input_data.read_data_sets(\"./mnist/data/\",one_hot = True)"
   ]
  },
  {
   "cell_type": "code",
   "execution_count": 2,
   "metadata": {},
   "outputs": [],
   "source": [
    "total_epoch = 100\n",
    "batch_size = 100\n",
    "learning_rate = 0.0002\n",
    "n_input = 28*28\n",
    "n_hidden = 256\n",
    "n_noise = 128\n",
    "X=tf.placeholder(tf.float32,[None,n_input])\n",
    "Z=tf.placeholder(tf.float32,[None,n_noise])"
   ]
  },
  {
   "cell_type": "code",
   "execution_count": 3,
   "metadata": {},
   "outputs": [
    {
     "name": "stdout",
     "output_type": "stream",
     "text": [
      "WARNING:tensorflow:From C:\\Users\\hansh\\anaconda3\\lib\\site-packages\\tensorflow\\python\\framework\\op_def_library.py:263: colocate_with (from tensorflow.python.framework.ops) is deprecated and will be removed in a future version.\n",
      "Instructions for updating:\n",
      "Colocations handled automatically by placer.\n"
     ]
    }
   ],
   "source": [
    "G_W1 = tf.Variable(tf.random_normal([n_noise,n_hidden],stddev=0.01))\n",
    "G_b1 = tf.Variable(tf.random_normal([n_hidden]))\n",
    "G_W2 = tf.Variable(tf.random_normal([n_hidden,n_input],stddev =0.01))\n",
    "G_b2 = tf.Variable(tf.random_normal([n_input]))\n",
    "D_W1 = tf.Variable(tf.random_normal([n_input,n_hidden],stddev=0.01))\n",
    "D_b1 = tf.Variable(tf.random_normal([n_hidden]))\n",
    "D_W2 = tf.Variable(tf.random_normal([n_hidden,1],stddev=0.01))\n",
    "D_b2 = tf.Variable(tf.zeros([1]))"
   ]
  },
  {
   "cell_type": "code",
   "execution_count": 4,
   "metadata": {},
   "outputs": [],
   "source": [
    "def generator(noise_z):\n",
    "    hidden = tf.nn.relu(tf.matmul(noise_z,G_W1)+G_b1)\n",
    "    output = tf.nn.sigmoid(tf.matmul(hidden,G_W2)+G_b2)\n",
    "    return output\n",
    "def discriminator(inputs):\n",
    "    hidden = tf.nn.relu(tf.matmul(inputs,D_W1)+D_b1)\n",
    "    output = tf.nn.sigmoid(tf.matmul(hidden,D_W2)+D_b2)\n",
    "    return output\n",
    "def get_noise(batch_size,n_noise):\n",
    "    return np.random.normal(size=(batch_size,n_noise))"
   ]
  },
  {
   "cell_type": "code",
   "execution_count": 5,
   "metadata": {},
   "outputs": [],
   "source": [
    "G = generator(Z)\n",
    "D_gene = discriminator(G)\n",
    "D_real = discriminator(X)\n",
    "loss_D = tf.reduce_mean(tf.log(D_real)+tf.log(1-D_gene))\n",
    "loss_G = tf.reduce_mean(tf.log(D_gene))\n",
    "D_var_list = [D_W1,D_b1,D_W2,D_b2]\n",
    "G_var_list = [G_W1,G_b1,G_W2,G_b2]"
   ]
  },
  {
   "cell_type": "code",
   "execution_count": 6,
   "metadata": {},
   "outputs": [],
   "source": [
    "train_D = tf.train.AdamOptimizer(learning_rate).minimize(-loss_D,var_list=D_var_list)\n",
    "train_G = tf.train.AdamOptimizer(learning_rate).minimize(-loss_G,var_list=G_var_list)"
   ]
  },
  {
   "cell_type": "code",
   "execution_count": 15,
   "metadata": {},
   "outputs": [
    {
     "name": "stdout",
     "output_type": "stream",
     "text": [
      "Epoch: 0000 D loss: -0.8511 G loss:  0.0000\n",
      "Epoch: 0001 D loss: -0.6579 G loss:  0.0000\n",
      "Epoch: 0002 D loss: -0.2177 G loss:  0.0000\n",
      "Epoch: 0003 D loss: -0.8239 G loss:  0.0000\n",
      "Epoch: 0004 D loss: -0.4470 G loss:  0.0000\n",
      "Epoch: 0005 D loss: -0.6793 G loss:  0.0000\n",
      "Epoch: 0006 D loss: -0.4929 G loss:  0.0000\n",
      "Epoch: 0007 D loss: -0.5864 G loss:  0.0000\n",
      "Epoch: 0008 D loss: -0.4373 G loss:  0.0000\n",
      "Epoch: 0009 D loss: -0.3810 G loss:  0.0000\n",
      "Epoch: 0010 D loss: -0.3519 G loss:  0.0000\n",
      "Epoch: 0011 D loss: -0.2787 G loss:  0.0000\n",
      "Epoch: 0012 D loss: -0.2280 G loss:  0.0000\n",
      "Epoch: 0013 D loss: -0.2662 G loss:  0.0000\n",
      "Epoch: 0014 D loss: -0.3637 G loss:  0.0000\n",
      "Epoch: 0015 D loss: -0.1573 G loss:  0.0000\n",
      "Epoch: 0016 D loss: -0.1751 G loss:  0.0000\n",
      "Epoch: 0017 D loss: -0.3459 G loss:  0.0000\n",
      "Epoch: 0018 D loss: -0.3888 G loss:  0.0000\n",
      "Epoch: 0019 D loss: -0.2754 G loss:  0.0000\n",
      "Epoch: 0020 D loss: -0.3843 G loss:  0.0000\n",
      "Epoch: 0021 D loss: -0.2225 G loss:  0.0000\n",
      "Epoch: 0022 D loss: -0.4025 G loss:  0.0000\n",
      "Epoch: 0023 D loss: -0.2380 G loss:  0.0000\n",
      "Epoch: 0024 D loss: -0.3635 G loss:  0.0000\n",
      "Epoch: 0025 D loss: -0.3637 G loss:  0.0000\n",
      "Epoch: 0026 D loss: -0.3620 G loss:  0.0000\n",
      "Epoch: 0027 D loss: -0.4218 G loss:  0.0000\n",
      "Epoch: 0028 D loss: -0.4153 G loss:  0.0000\n",
      "Epoch: 0029 D loss: -0.4494 G loss:  0.0000\n",
      "Epoch: 0030 D loss: -0.4303 G loss:  0.0000\n",
      "Epoch: 0031 D loss: -0.6009 G loss:  0.0000\n",
      "Epoch: 0032 D loss: -0.5598 G loss:  0.0000\n",
      "Epoch: 0033 D loss: -0.4666 G loss:  0.0000\n",
      "Epoch: 0034 D loss: -0.6832 G loss:  0.0000\n",
      "Epoch: 0035 D loss: -0.5409 G loss:  0.0000\n",
      "Epoch: 0036 D loss: -0.4752 G loss:  0.0000\n",
      "Epoch: 0037 D loss: -0.6956 G loss:  0.0000\n",
      "Epoch: 0038 D loss: -0.6544 G loss:  0.0000\n",
      "Epoch: 0039 D loss: -0.5223 G loss:  0.0000\n",
      "Epoch: 0040 D loss: -0.5274 G loss:  0.0000\n",
      "Epoch: 0041 D loss: -0.5921 G loss:  0.0000\n",
      "Epoch: 0042 D loss: -0.6721 G loss:  0.0000\n",
      "Epoch: 0043 D loss: -0.5598 G loss:  0.0000\n",
      "Epoch: 0044 D loss: -0.4030 G loss:  0.0000\n",
      "Epoch: 0045 D loss: -0.7451 G loss:  0.0000\n",
      "Epoch: 0046 D loss: -0.4687 G loss:  0.0000\n",
      "Epoch: 0047 D loss: -0.5988 G loss:  0.0000\n",
      "Epoch: 0048 D loss: -0.4525 G loss:  0.0000\n",
      "Epoch: 0049 D loss: -0.3805 G loss:  0.0000\n",
      "Epoch: 0050 D loss: -0.7699 G loss:  0.0000\n",
      "Epoch: 0051 D loss: -0.5565 G loss:  0.0000\n",
      "Epoch: 0052 D loss: -0.7086 G loss:  0.0000\n",
      "Epoch: 0053 D loss: -0.5673 G loss:  0.0000\n",
      "Epoch: 0054 D loss: -0.5758 G loss:  0.0000\n",
      "Epoch: 0055 D loss: -0.5722 G loss:  0.0000\n",
      "Epoch: 0056 D loss: -0.8324 G loss:  0.0000\n",
      "Epoch: 0057 D loss: -0.8617 G loss:  0.0000\n",
      "Epoch: 0058 D loss: -0.7147 G loss:  0.0000\n",
      "Epoch: 0059 D loss: -0.7223 G loss:  0.0000\n",
      "Epoch: 0060 D loss: -0.7391 G loss:  0.0000\n",
      "Epoch: 0061 D loss: -0.7090 G loss:  0.0000\n",
      "Epoch: 0062 D loss: -0.7064 G loss:  0.0000\n",
      "Epoch: 0063 D loss: -0.8743 G loss:  0.0000\n",
      "Epoch: 0064 D loss: -0.6674 G loss:  0.0000\n",
      "Epoch: 0065 D loss: -0.7124 G loss:  0.0000\n",
      "Epoch: 0066 D loss: -0.7926 G loss:  0.0000\n",
      "Epoch: 0067 D loss: -0.7366 G loss:  0.0000\n",
      "Epoch: 0068 D loss: -0.5718 G loss:  0.0000\n",
      "Epoch: 0069 D loss: -0.7852 G loss:  0.0000\n",
      "Epoch: 0070 D loss: -0.6754 G loss:  0.0000\n",
      "Epoch: 0071 D loss: -0.6712 G loss:  0.0000\n",
      "Epoch: 0072 D loss: -0.7721 G loss:  0.0000\n",
      "Epoch: 0073 D loss: -0.6537 G loss:  0.0000\n",
      "Epoch: 0074 D loss: -0.7088 G loss:  0.0000\n",
      "Epoch: 0075 D loss: -0.6967 G loss:  0.0000\n",
      "Epoch: 0076 D loss: -0.5743 G loss:  0.0000\n",
      "Epoch: 0077 D loss: -0.8122 G loss:  0.0000\n",
      "Epoch: 0078 D loss: -0.6449 G loss:  0.0000\n",
      "Epoch: 0079 D loss: -0.7530 G loss:  0.0000\n",
      "Epoch: 0080 D loss: -0.6505 G loss:  0.0000\n",
      "Epoch: 0081 D loss: -0.6587 G loss:  0.0000\n",
      "Epoch: 0082 D loss: -0.7621 G loss:  0.0000\n",
      "Epoch: 0083 D loss: -0.6742 G loss:  0.0000\n",
      "Epoch: 0084 D loss: -0.8059 G loss:  0.0000\n",
      "Epoch: 0085 D loss: -0.8117 G loss:  0.0000\n",
      "Epoch: 0086 D loss: -0.6000 G loss:  0.0000\n",
      "Epoch: 0087 D loss: -0.6484 G loss:  0.0000\n",
      "Epoch: 0088 D loss: -0.7442 G loss:  0.0000\n",
      "Epoch: 0089 D loss: -0.7117 G loss:  0.0000\n",
      "Epoch: 0090 D loss: -0.7808 G loss:  0.0000\n",
      "Epoch: 0091 D loss: -0.7165 G loss:  0.0000\n",
      "Epoch: 0092 D loss: -0.6751 G loss:  0.0000\n",
      "Epoch: 0093 D loss: -0.6834 G loss:  0.0000\n",
      "Epoch: 0094 D loss: -0.7269 G loss:  0.0000\n",
      "Epoch: 0095 D loss: -0.6966 G loss:  0.0000\n",
      "Epoch: 0096 D loss: -0.8701 G loss:  0.0000\n",
      "Epoch: 0097 D loss: -0.6960 G loss:  0.0000\n",
      "Epoch: 0098 D loss: -0.7001 G loss:  0.0000\n",
      "Epoch: 0099 D loss: -0.8114 G loss:  0.0000\n"
     ]
    }
   ],
   "source": [
    "sess = tf.Session()\n",
    "sess.run(tf.global_variables_initializer())\n",
    "total_batch = int(mnist.train.num_examples / batch_size)\n",
    "loss_val_D,loss_val_G = 0,0\n",
    "for epoch in range(total_epoch):\n",
    "    for i in range(total_batch):\n",
    "        batch_xs,batch_ys = mnist.train.next_batch(batch_size)\n",
    "        noise = get_noise(batch_size,n_noise)\n",
    "        _,loss_val_D = sess.run([train_D,loss_D],feed_dict={X:batch_xs,Z:noise})\n",
    "        _,loos_val_G = sess.run([train_G,loss_G],feed_dict={Z:noise})\n",
    "    print('Epoch:','%04d'%epoch,'D loss:','{:.4f}'.format(loss_val_D),'G loss: ','{:.4f}'.format(loss_val_G))\n",
    "    if epoch == 0 or (epoch+1)%10 == 0:\n",
    "        sample_size = 10\n",
    "        noise = get_noise(sample_size,n_noise)\n",
    "        samples = sess.run(G,feed_dict={Z:noise})\n",
    "        fig,ax =plt.subplots(1,sample_size,figsize=(sample_size,1))\n",
    "        for i in range(sample_size):\n",
    "            ax[i].set_axis_off()\n",
    "            ax[i].imshow(np.reshape(samples[i],(28,28)))\n",
    "        plt.savefig('samples/{}.png'.format(str(epoch).zfill(3)),bbox_inches='tight')\n",
    "        plt.close(fig)"
   ]
  },
  {
   "cell_type": "code",
   "execution_count": null,
   "metadata": {},
   "outputs": [],
   "source": []
  },
  {
   "cell_type": "code",
   "execution_count": null,
   "metadata": {},
   "outputs": [],
   "source": []
  },
  {
   "cell_type": "code",
   "execution_count": null,
   "metadata": {},
   "outputs": [],
   "source": []
  }
 ],
 "metadata": {
  "kernelspec": {
   "display_name": "Python 3",
   "language": "python",
   "name": "python3"
  },
  "language_info": {
   "codemirror_mode": {
    "name": "ipython",
    "version": 3
   },
   "file_extension": ".py",
   "mimetype": "text/x-python",
   "name": "python",
   "nbconvert_exporter": "python",
   "pygments_lexer": "ipython3",
   "version": "3.7.6"
  }
 },
 "nbformat": 4,
 "nbformat_minor": 4
}
